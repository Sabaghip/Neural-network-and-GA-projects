{
 "cells": [
  {
   "cell_type": "markdown",
   "id": "4e262310",
   "metadata": {},
   "source": [
    "### Import Libs"
   ]
  },
  {
   "cell_type": "code",
   "execution_count": null,
   "id": "95d3f1324b0501e6",
   "metadata": {
    "collapsed": false
   },
   "outputs": [],
   "source": [
    "import matplotlib.pyplot as plt"
   ]
  },
  {
   "cell_type": "markdown",
   "id": "9da22522",
   "metadata": {},
   "source": [
    "### Create Individual"
   ]
  },
  {
   "cell_type": "code",
   "execution_count": null,
   "id": "de1142d0",
   "metadata": {},
   "outputs": [],
   "source": [
    "def create_individual():\n",
    "    # TODO: create a random chromosome\n",
    "    return ..."
   ]
  },
  {
   "cell_type": "markdown",
   "id": "4ce5eabe",
   "metadata": {},
   "source": [
    "### Generate Population"
   ]
  },
  {
   "cell_type": "code",
   "execution_count": null,
   "id": "a66475735b552b41",
   "metadata": {
    "collapsed": false
   },
   "outputs": [],
   "source": [
    "def generate_population(population_size:int = 20):\n",
    "    population = []\n",
    "\n",
    "    for _ in range(population_size):\n",
    "        new_individual = create_individual()\n",
    "        population.append(new_individual)\n",
    "    \n",
    "    return population"
   ]
  },
  {
   "cell_type": "markdown",
   "id": "0d944dab",
   "metadata": {},
   "source": [
    "### Parent Selection"
   ]
  },
  {
   "cell_type": "code",
   "execution_count": null,
   "id": "261340cc4efeca3",
   "metadata": {
    "collapsed": false
   },
   "outputs": [],
   "source": [
    "def parent_selection(population):\n",
    "    parents = []\n",
    "    #TODO: choose the pairs of parents\n",
    "            \n",
    "    return parents"
   ]
  },
  {
   "cell_type": "markdown",
   "id": "c6c4da1f",
   "metadata": {},
   "source": [
    "### Next Generation Selection"
   ]
  },
  {
   "cell_type": "code",
   "execution_count": null,
   "id": "d22feb7e",
   "metadata": {},
   "outputs": [],
   "source": [
    "def next_generation_selection(children_population):\n",
    "    next_generation = []\n",
    "    #TODO: choose the next_generation\n",
    "            \n",
    "    return next_generation"
   ]
  },
  {
   "cell_type": "markdown",
   "id": "f4380bb4",
   "metadata": {},
   "source": [
    "### Crossover"
   ]
  },
  {
   "cell_type": "code",
   "execution_count": null,
   "id": "a140f7ad9542ffba",
   "metadata": {
    "collapsed": false
   },
   "outputs": [],
   "source": [
    "def crossover(parents):\n",
    "    offsprings = []\n",
    "    #TODO: implement you crossover algorithm\n",
    "    \n",
    "    return offsprings"
   ]
  },
  {
   "cell_type": "markdown",
   "id": "0bdde8d6",
   "metadata": {},
   "source": [
    "### Mutation"
   ]
  },
  {
   "cell_type": "code",
   "execution_count": null,
   "id": "7f3f19b5790d8e8e",
   "metadata": {
    "collapsed": false
   },
   "outputs": [],
   "source": [
    "def mutate(seq):\n",
    "    #TODO: implement mutate\n",
    "    \n",
    "    return seq"
   ]
  },
  {
   "cell_type": "markdown",
   "id": "833ea75e",
   "metadata": {},
   "source": [
    "### Score Function"
   ]
  },
  {
   "cell_type": "code",
   "execution_count": null,
   "id": "15c492631c51bd96",
   "metadata": {
    "collapsed": false
   },
   "outputs": [],
   "source": [
    "def fitness_score(seq):\n",
    "    fit_score = 0\n",
    "    #TODO: calculate fitness score\n",
    "    \n",
    "    return fit_score"
   ]
  },
  {
   "cell_type": "markdown",
   "id": "9a4ea63e",
   "metadata": {},
   "source": [
    "## Calculate Population Fitness"
   ]
  },
  {
   "cell_type": "code",
   "execution_count": null,
   "id": "ae632959",
   "metadata": {},
   "outputs": [],
   "source": [
    "def population_fitness(population):\n",
    "    population_fitness = 0\n",
    "    individuals_fitnesses:dict = {}\n",
    "    for chromosome in population:\n",
    "        fitness_sc = fitness_score(chromosome)\n",
    "        population_fitness += fitness_sc\n",
    "        individuals_fitnesses[chromosome] = fitness_sc\n",
    "    return individuals_fitnesses ,population_fitness"
   ]
  },
  {
   "cell_type": "markdown",
   "id": "99b5facc",
   "metadata": {},
   "source": [
    "### Termination Condition"
   ]
  },
  {
   "cell_type": "code",
   "execution_count": null,
   "id": "5f77977c",
   "metadata": {},
   "outputs": [],
   "source": [
    "def check_end(population) -> bool:\n",
    "    #TODO: check end of algorithm\n",
    "    \n",
    "    return ..."
   ]
  },
  {
   "cell_type": "markdown",
   "id": "b223c1dc",
   "metadata": {},
   "source": [
    "### Run Your Algorithms"
   ]
  },
  {
   "cell_type": "code",
   "execution_count": null,
   "id": "392ff74d8fb7ab3e",
   "metadata": {
    "collapsed": false
   },
   "outputs": [],
   "source": [
    "# The genetic algorithm\n",
    "generation = 0\n",
    "solution_is_found = False\n",
    "fitness = []\n",
    "\n",
    "population = generate_population()\n",
    "population , population_fitness = population_fitness(population)\n",
    "\n",
    "while not check_end(population):\n",
    "    # TODO: this is a default setup which you maybe need to change.\n",
    "    population = parent_selection(population)\n",
    "    population = crossover(population)\n",
    "    population = mutate(population)\n",
    "    individuals_fitnesses , population_fitness = population_fitness(population)\n",
    "    population = next_generation_selection(population)\n",
    "    \n",
    "    generation += 1\n",
    "    avg_fit = population_fitness / population.__len__()\n",
    "    fitness.append(avg_fit)\n"
   ]
  },
  {
   "cell_type": "markdown",
   "id": "174334b7",
   "metadata": {},
   "source": [
    "### See Your Progress Over Generations"
   ]
  },
  {
   "cell_type": "code",
   "execution_count": null,
   "id": "62a19a5f372d7885",
   "metadata": {
    "collapsed": false
   },
   "outputs": [],
   "source": [
    "plt.bar(range(generation), fitness, color='skyblue')\n",
    "plt.xlabel('Generation', fontsize=20)\n",
    "plt.ylabel('Average Fitness', fontsize=20)\n",
    "plt.title('Fitness over Generations', fontsize=20)\n",
    "plt.show()"
   ]
  }
 ],
 "metadata": {
  "kernelspec": {
   "display_name": "Python 3",
   "language": "python",
   "name": "python3"
  },
  "language_info": {
   "codemirror_mode": {
    "name": "ipython",
    "version": 2
   },
   "file_extension": ".py",
   "mimetype": "text/x-python",
   "name": "python",
   "nbconvert_exporter": "python",
   "pygments_lexer": "ipython2",
   "version": "2.7.6"
  }
 },
 "nbformat": 4,
 "nbformat_minor": 5
}

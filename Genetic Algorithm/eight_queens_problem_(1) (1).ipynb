{
  "cells": [
    {
      "cell_type": "markdown",
      "id": "4e262310",
      "metadata": {
        "id": "4e262310"
      },
      "source": [
        "### Import Libs"
      ]
    },
    {
      "cell_type": "code",
      "execution_count": 6,
      "id": "95d3f1324b0501e6",
      "metadata": {
        "id": "95d3f1324b0501e6"
      },
      "outputs": [],
      "source": [
        "import matplotlib.pyplot as plt\n",
        "import random\n",
        "import numpy as np"
      ]
    },
    {
      "cell_type": "markdown",
      "id": "9da22522",
      "metadata": {
        "id": "9da22522"
      },
      "source": [
        "### Create Individual"
      ]
    },
    {
      "cell_type": "code",
      "execution_count": 7,
      "id": "de1142d0",
      "metadata": {
        "id": "de1142d0"
      },
      "outputs": [],
      "source": [
        "def create_individual():\n",
        "    # TODO: create a random chromosome\n",
        "    return random.sample(range(8), 8)"
      ]
    },
    {
      "cell_type": "markdown",
      "id": "4ce5eabe",
      "metadata": {
        "id": "4ce5eabe"
      },
      "source": [
        "### Generate Population"
      ]
    },
    {
      "cell_type": "markdown",
      "source": [],
      "metadata": {
        "id": "iYn_2vwLt_nr"
      },
      "id": "iYn_2vwLt_nr"
    },
    {
      "cell_type": "code",
      "execution_count": 48,
      "id": "a66475735b552b41",
      "metadata": {
        "id": "a66475735b552b41"
      },
      "outputs": [],
      "source": [
        "def generate_population(population_size:int = 100):\n",
        "    population = []\n",
        "\n",
        "    for _ in range(population_size):\n",
        "        new_individual = create_individual()\n",
        "        population.append(new_individual)\n",
        "\n",
        "    return population"
      ]
    },
    {
      "cell_type": "markdown",
      "id": "0d944dab",
      "metadata": {
        "id": "0d944dab"
      },
      "source": [
        "### Parent Selection"
      ]
    },
    {
      "cell_type": "code",
      "execution_count": 49,
      "id": "261340cc4efeca3",
      "metadata": {
        "id": "261340cc4efeca3"
      },
      "outputs": [],
      "source": [
        "def parent_selection(population):\n",
        "    #TODO: choose the pairs of parents\n",
        "    parents = []\n",
        "    fitness_scores, _ = population_fitnesss(population)\n",
        "    sorted_population = sorted(fitness_scores, key=lambda item: item[1])\n",
        "    for i in range(len(population)//2):\n",
        "        parents.append(sorted_population[i][0])\n",
        "    return parents"
      ]
    },
    {
      "cell_type": "markdown",
      "id": "c6c4da1f",
      "metadata": {
        "id": "c6c4da1f"
      },
      "source": [
        "### Next Generation Selection"
      ]
    },
    {
      "cell_type": "code",
      "execution_count": 50,
      "id": "d22feb7e",
      "metadata": {
        "id": "d22feb7e"
      },
      "outputs": [],
      "source": [
        "def next_generation_selection(children_population):\n",
        "    #TODO: choose the next_generation\n",
        "    return children_population"
      ]
    },
    {
      "cell_type": "markdown",
      "id": "f4380bb4",
      "metadata": {
        "id": "f4380bb4"
      },
      "source": [
        "### Crossover"
      ]
    },
    {
      "cell_type": "code",
      "execution_count": 51,
      "id": "a140f7ad9542ffba",
      "metadata": {
        "id": "a140f7ad9542ffba"
      },
      "outputs": [],
      "source": [
        "def crossover(parents):\n",
        "    offsprings = []\n",
        "    #TODO: implement you crossover algorithm\n",
        "    while len(offsprings) < len(parents) * 2:\n",
        "        parent1, parent2 = random.sample(parents, 2)\n",
        "        point = random.randint(1, len(parent1) - 1)\n",
        "        child1 = parent1[:point] + parent2[point:]\n",
        "        child2 = parent2[:point] + parent1[point:]\n",
        "        offsprings.extend([child1, child2])\n",
        "    return offsprings"
      ]
    },
    {
      "cell_type": "markdown",
      "id": "0bdde8d6",
      "metadata": {
        "id": "0bdde8d6"
      },
      "source": [
        "### Mutation"
      ]
    },
    {
      "cell_type": "code",
      "execution_count": 52,
      "id": "7f3f19b5790d8e8e",
      "metadata": {
        "id": "7f3f19b5790d8e8e"
      },
      "outputs": [],
      "source": [
        "def mutate(seq):\n",
        "    #TODO: implement mutate\n",
        "    for x in range(len(seq)):\n",
        "      if random.random() > 0.1:\n",
        "        continue\n",
        "      i, j = random.sample(range(8), 2)\n",
        "      z=list(seq[x])\n",
        "      z[i], z[j] = z[j], z[i]\n",
        "      seq[x] = tuple(z)\n",
        "    return seq"
      ]
    },
    {
      "cell_type": "markdown",
      "id": "833ea75e",
      "metadata": {
        "id": "833ea75e"
      },
      "source": [
        "### Score Function"
      ]
    },
    {
      "cell_type": "code",
      "execution_count": 53,
      "id": "15c492631c51bd96",
      "metadata": {
        "id": "15c492631c51bd96"
      },
      "outputs": [],
      "source": [
        "def fitness_score(seq):\n",
        "    fit_score = 0\n",
        "    #TODO: calculate fitness score\n",
        "    for i in range(len(seq)):\n",
        "        for j in range(i + 1, len(seq)):\n",
        "            if seq[i] == seq[j] or abs(seq[i] - seq[j]) == j - i:\n",
        "                fit_score += 1\n",
        "    return fit_score"
      ]
    },
    {
      "cell_type": "markdown",
      "id": "9a4ea63e",
      "metadata": {
        "id": "9a4ea63e"
      },
      "source": [
        "## Calculate Population Fitness"
      ]
    },
    {
      "cell_type": "code",
      "execution_count": 54,
      "id": "ae632959",
      "metadata": {
        "id": "ae632959"
      },
      "outputs": [],
      "source": [
        "def population_fitnesss(population):\n",
        "    population_fitness1 = 0\n",
        "    individuals_fitnesses = []\n",
        "    try:\n",
        "      for chromosome in population:\n",
        "        fitness_sc = fitness_score(chromosome)\n",
        "        population_fitness1 += fitness_sc\n",
        "        individuals_fitnesses.append((tuple(chromosome), fitness_sc))\n",
        "      return individuals_fitnesses, population_fitness1\n",
        "    except:\n",
        "      for chromosome in population:\n",
        "        fitness_sc = fitness_score(chromosome[0])\n",
        "        population_fitness1 += fitness_sc\n",
        "        individuals_fitnesses.append((tuple(chromosome[0]), fitness_sc))\n",
        "      return individuals_fitnesses, population_fitness1"
      ]
    },
    {
      "cell_type": "markdown",
      "id": "99b5facc",
      "metadata": {
        "id": "99b5facc"
      },
      "source": [
        "### Termination Condition"
      ]
    },
    {
      "cell_type": "code",
      "execution_count": 55,
      "id": "5f77977c",
      "metadata": {
        "id": "5f77977c"
      },
      "outputs": [],
      "source": [
        "def check_end(population) -> bool:\n",
        "    #TODO: check end of algorithm\n",
        "    fitness_scores, _ = population_fitnesss(population)\n",
        "    if 0 in fitness_scores[:][1]:\n",
        "        return True\n",
        "    return False"
      ]
    },
    {
      "cell_type": "markdown",
      "id": "b223c1dc",
      "metadata": {
        "id": "b223c1dc"
      },
      "source": [
        "### Run Your Algorithms"
      ]
    },
    {
      "cell_type": "code",
      "execution_count": 66,
      "id": "392ff74d8fb7ab3e",
      "metadata": {
        "id": "392ff74d8fb7ab3e"
      },
      "outputs": [],
      "source": [
        "# The genetic algorithm\n",
        "generation = 0\n",
        "solution_is_found = False\n",
        "fitness = []\n",
        "\n",
        "population = generate_population(100)\n",
        "population , population_fitness = population_fitnesss(population)\n",
        "\n",
        "while not check_end(population):\n",
        "    # TODO: this is a default setup which you maybe need to change.\n",
        "    population = parent_selection(population)\n",
        "    population = crossover(population)\n",
        "    population = mutate(population)\n",
        "    individuals_fitnesses , population_fitness = population_fitnesss(population)\n",
        "    population = next_generation_selection(population)\n",
        "    # print(individuals_fitnesses)\n",
        "    generation += 1\n",
        "    avg_fit = population_fitness / population.__len__()\n",
        "    fitness.append(avg_fit)\n"
      ]
    },
    {
      "cell_type": "markdown",
      "id": "174334b7",
      "metadata": {
        "id": "174334b7"
      },
      "source": [
        "### See Your Progress Over Generations"
      ]
    },
    {
      "cell_type": "code",
      "execution_count": 67,
      "id": "62a19a5f372d7885",
      "metadata": {
        "id": "62a19a5f372d7885",
        "colab": {
          "base_uri": "https://localhost:8080/",
          "height": 494
        },
        "outputId": "6677c39e-416f-429c-abbb-19ecd333627b"
      },
      "outputs": [
        {
          "output_type": "display_data",
          "data": {
            "text/plain": [
              "<Figure size 640x480 with 1 Axes>"
            ],
            "image/png": "[encoded data removed]"
          },
          "metadata": {}
        }
      ],
      "source": [
        "plt.bar(range(generation), fitness, color='skyblue')\n",
        "plt.xlabel('Generation', fontsize=20)\n",
        "plt.ylabel('Average Fitness', fontsize=20)\n",
        "plt.title('Fitness over Generations', fontsize=20)\n",
        "plt.show()"
      ]
    }
  ],
  "metadata": {
    "kernelspec": {
      "display_name": "Python 3",
      "name": "python3"
    },
    "language_info": {
      "codemirror_mode": {
        "name": "ipython",
        "version": 2
      },
      "file_extension": ".py",
      "mimetype": "text/x-python",
      "name": "python",
      "nbconvert_exporter": "python",
      "pygments_lexer": "ipython2",
      "version": "2.7.6"
    },
    "colab": {
      "provenance": [],
      "gpuType": "T4"
    },
    "accelerator": "GPU"
  },
  "nbformat": 4,
  "nbformat_minor": 5
}